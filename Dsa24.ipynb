{
  "nbformat": 4,
  "nbformat_minor": 0,
  "metadata": {
    "colab": {
      "provenance": [],
      "authorship_tag": "ABX9TyPAUPlQHc8lbG/Mu3KKyID6",
      "include_colab_link": true
    },
    "kernelspec": {
      "name": "python3",
      "display_name": "Python 3"
    },
    "language_info": {
      "name": "python"
    }
  },
  "cells": [
    {
      "cell_type": "markdown",
      "metadata": {
        "id": "view-in-github",
        "colab_type": "text"
      },
      "source": [
        "<a href=\"https://colab.research.google.com/github/RakeshMishra26mgh/Dsa24/blob/main/Dsa24.ipynb\" target=\"_parent\"><img src=\"https://colab.research.google.com/assets/colab-badge.svg\" alt=\"Open In Colab\"/></a>"
      ]
    },
    {
      "cell_type": "markdown",
      "source": [
        "Answer 1:-"
      ],
      "metadata": {
        "id": "TRFV6FypT5l_"
      }
    },
    {
      "cell_type": "code",
      "source": [
        "roman_values = {\"I\": 1, \"V\": 5, \"X\": 10, \"L\": 50, \"C\": 100, \"D\": 500, \"M\": 1000}\n",
        "\n",
        "def roman_to_int(roman):\n",
        "    result = 0\n",
        "    for i in range(len(roman)):\n",
        "        current_value = roman_values[roman[i]]\n",
        "        if i < len(roman) - 1 and current_value < roman_values[roman[i + 1]]:\n",
        "            result -= current_value\n",
        "        else:\n",
        "            result += current_value\n",
        "    return result\n",
        "\n",
        "user_input = input(\"Enter a roman numeral: \")\n",
        "\n",
        "valid_symbols = set(roman_values.keys())\n",
        "if all(char in valid_symbols for char in user_input):\n",
        "    user_input = user_input.upper()\n",
        "    output = roman_to_int(user_input)\n",
        "    print(f\"{user_input} = {output}\")\n",
        "else:\n",
        "    print(\"Invalid roman numeral. Please enter only I, V, X, L, C, D or M.\")\n"
      ],
      "metadata": {
        "id": "uVBOEDSiT7nG"
      },
      "execution_count": null,
      "outputs": []
    },
    {
      "cell_type": "markdown",
      "source": [
        "Answer 2:-"
      ],
      "metadata": {
        "id": "gYxiR3GfWTuz"
      }
    },
    {
      "cell_type": "code",
      "source": [
        "def length_of_longest_substring(s):\n",
        "    seen = set()\n",
        "    start = 0\n",
        "    end = 0\n",
        "    result =0\n",
        "    while end < len(s):\n",
        "        current_char = s[end]\n",
        "        if current_char not in seen:\n",
        "            seen.add(current_char)\n",
        "            result = max(result, end - start + 1)\n",
        "            end += 1\n",
        "        else:\n",
        "            seen.remove(s[start])\n",
        "            start += 1\n",
        "    return result\n",
        "\n",
        "user_input = input(\"Enter a string: \")\n",
        "\n",
        "output = length_of_longest_substring(user_input)\n",
        "print(f\"The length of the longest substring without repeating characters is {output}.\")\n"
      ],
      "metadata": {
        "id": "EslknJ_KWWOZ"
      },
      "execution_count": null,
      "outputs": []
    },
    {
      "cell_type": "markdown",
      "source": [
        "Answer 3:-"
      ],
      "metadata": {
        "id": "6S4Zmp3xWzC2"
      }
    },
    {
      "cell_type": "code",
      "source": [
        "def majority_element(nums):\n",
        "    candidate = None\n",
        "    count = 0\n",
        "    for num in nums:\n",
        "        if count == 0:\n",
        "            candidate = num\n",
        "        if num == candidate:\n",
        "            count += 1\n",
        "        else:\n",
        "            count -= 1\n",
        "    return candidate\n",
        "\n",
        "user_input = input(\"Enter an array of numbers separated by commas: \")\n",
        "user_input = [int(num) for num in user_input.split(\",\")]\n",
        "output = majority_element(user_input)\n",
        "print(f\"The majority element is {output}.\")\n"
      ],
      "metadata": {
        "id": "mYB3C2mYW2hb"
      },
      "execution_count": null,
      "outputs": []
    },
    {
      "cell_type": "markdown",
      "source": [
        "Answer 4:-"
      ],
      "metadata": {
        "id": "y_qZHla1XqzH"
      }
    },
    {
      "cell_type": "code",
      "source": [
        "def group_anagrams(strs):\n",
        "    groups = {}\n",
        "    for s in strs:\n",
        "        key = \"\".join(sorted(s))\n",
        "        if key not in groups:\n",
        "            groups[key] = [s]\n",
        "        else:\n",
        "            groups[key].append(s)\n",
        "    return list(groups.values())\n",
        "\n",
        "user_input = input(\"Enter an array of strings separated by commas: \")\n",
        "user_input = [s.strip() for s in user_input.split(\",\")]\n",
        "output = group_anagrams(user_input)\n",
        "print(f\"The groups of anagrams are {output}.\")\n"
      ],
      "metadata": {
        "id": "_R_K3PuqXtBh"
      },
      "execution_count": null,
      "outputs": []
    },
    {
      "cell_type": "markdown",
      "source": [
        "Answer 5:-"
      ],
      "metadata": {
        "id": "xqyK4GGHYv7Z"
      }
    },
    {
      "cell_type": "code",
      "source": [
        "def nth_ugly_number(n):\n",
        "    ugly_numbers = [1]\n",
        "    i2 = 0\n",
        "    i3 = 0\n",
        "    i5 = 0\n",
        "    while len(ugly_numbers) < n:\n",
        "        next2 = ugly_numbers[i2] * 2\n",
        "        next3 = ugly_numbers[i3] * 3\n",
        "        next5 = ugly_numbers[i5] * 5\n",
        "        next_ugly = min(next2, next3, next5)\n",
        "        ugly_numbers.append(next_ugly)\n",
        "        if next_ugly == next2:\n",
        "            i2 += 1\n",
        "        if next_ugly == next3:\n",
        "            i3 += 1\n",
        "        if next_ugly == next5:\n",
        "            i5 += 1\n",
        "    return ugly_numbers[-1]\n",
        "\n",
        "user_input = int(input(\"Enter an integer: \"))\n",
        "output = nth_ugly_number(user_input)\n",
        "print(f\"The {user_input}th ugly number is {output}.\")\n"
      ],
      "metadata": {
        "id": "1eJlhW7_YyIV"
      },
      "execution_count": null,
      "outputs": []
    },
    {
      "cell_type": "markdown",
      "source": [
        "Answer 6:-"
      ],
      "metadata": {
        "id": "ki2JyxD4ZlnS"
      }
    },
    {
      "cell_type": "code",
      "source": [
        "import heapq\n",
        "\n",
        "def top_k_frequent_words(words, k):\n",
        "    frequency = {}\n",
        "    for word in words:\n",
        "        frequency[word] = frequency.get(word, 0) + 1\n",
        "    heap = []\n",
        "    for word, freq in frequency.items():\n",
        "        heapq.heappush(heap, (-freq, word))\n",
        "        if len(heap) > k:\n",
        "            heapq.heappop(heap)\n",
        "    result = []\n",
        "    while heap:\n",
        "        result.append(heapq.heappop(heap)[1])\n",
        "    result.reverse()\n",
        "    return result\n",
        "\n",
        "user_input = input(\"Enter an array of strings separated by commas: \")\n",
        "user_input = [s.strip() for s in user_input.split(\",\")]\n",
        "k = int(input(\"Enter an integer: \"))\n",
        "output = top_k_frequent_words(user_input, k)\n",
        "print(f\"The {k} most frequent words are {output}.\")\n"
      ],
      "metadata": {
        "id": "aKcSc8JBZnwh"
      },
      "execution_count": null,
      "outputs": []
    },
    {
      "cell_type": "markdown",
      "source": [
        "Answer 7:-"
      ],
      "metadata": {
        "id": "n5Rpui2xazc7"
      }
    },
    {
      "cell_type": "code",
      "source": [
        "import collections\n",
        "\n",
        "def max_sliding_window(nums, k):\n",
        "    window = collections.deque()\n",
        "    result = []\n",
        "    for i, num in enumerate(nums):\n",
        "        if window and window[0] <= i - k:\n",
        "            window.popleft()\n",
        "        while window and num > nums[window[-1]]:\n",
        "            window.pop()\n",
        "        window.append(i)\n",
        "        if i >= k - 1:\n",
        "            result.append(nums[window[0]])\n",
        "    return result\n",
        "\n",
        "user_input = input(\"Enter an array of integers separated by commas: \")\n",
        "\n",
        "user_input = [int(num) for num in user_input.split(\",\")]\n",
        "k = int(input(\"Enter an integer: \"))\n",
        "output = max_sliding_window(user_input, k)\n",
        "print(f\"The max sliding window is {output}.\")\n"
      ],
      "metadata": {
        "id": "PjDt76MIa1eY"
      },
      "execution_count": null,
      "outputs": []
    },
    {
      "cell_type": "markdown",
      "source": [
        "Answer 8:-"
      ],
      "metadata": {
        "id": "yfIH8Njzb0_K"
      }
    },
    {
      "cell_type": "code",
      "source": [
        "def find_closest_elements(arr, k, x):\n",
        "    left = 0\n",
        "    right = len(arr) - 1\n",
        "    while right - left + 1 > k:\n",
        "        left_dist = abs(arr[left] - x)\n",
        "        right_dist = abs(arr[right] - x)\n",
        "        if left_dist > right_dist:\n",
        "            left += 1\n",
        "        else:\n",
        "            right -= 1\n",
        "    return arr[left:right + 1]\n",
        "\n",
        "user_input = input(\"Enter a sorted array of integers separated by commas: \")\n",
        "user_input = [int(num) for num in user_input.split(\",\")]\n",
        "k = int(input(\"Enter an integer for k: \"))\n",
        "x = int(input(\"Enter an integer for x: \"))\n",
        "output = find_closest_elements(user_input, k, x)\n",
        "print(f\"The {k} closest elements to {x} are {output}.\")\n"
      ],
      "metadata": {
        "id": "NB3AnOF8b29Z"
      },
      "execution_count": null,
      "outputs": []
    }
  ]
}